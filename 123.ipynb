{
 "cells": [
  {
   "cell_type": "code",
   "execution_count": 1,
   "metadata": {},
   "outputs": [],
   "source": [
    "import numpy as np"
   ]
  },
  {
   "cell_type": "code",
   "execution_count": 53,
   "metadata": {},
   "outputs": [],
   "source": [
    "# define backpropagation of softmax\n",
    "def backward1(delta,y):\n",
    " # output of softmax node from forward pass\n",
    "    y_diag = np.diag(y)\n",
    "\n",
    "    d_inputs = np.outer(y, delta) - np.dot(y_diag, delta)\n",
    "\n",
    "    return d_inputs\n",
    "\n",
    "# # define backpropagation of softmax using for loop\n",
    "def backward2(delta=np.array([1,2,3,4,5])):\n",
    "    y = np.array([1,2,3,4,5]) # output of softmax node from forward pass\n",
    "\n",
    "    jacobian_matrix = np.zeros((y.shape[0], y.shape[0]))\n",
    "    for i in range(y.shape[0]):\n",
    "        for j in range(y.shape[0]):\n",
    "            if i == j:\n",
    "                jacobian_matrix[i][j] = y[i] * (1 - y[j])\n",
    "            else:\n",
    "                jacobian_matrix[i][j] = -y[i] * y[j]\n",
    "    return np.dot(delta, jacobian_matrix)\n",
    "\n",
    "def backward3(delta=np.array([1,2,3,4,5])):\n",
    "    y = np.array([1,2,3,4,5]) # output of softmax node from forward pass\n",
    "\n",
    "    # repeat y n times to form a 2d array\n",
    "    y1 = np.tile(y, (y.shape[0], 1)).T\n",
    "    # 5x5 identity matrix\n",
    "    i = np.identity(y.shape[0])\n",
    "    # repeat y n times to form a 2d array\n",
    "    y2 = np.tile(y, (y.shape[0], 1))\n",
    "\n",
    "    jacobian_matrix = y1 * (i - y2)\n",
    "    return np.dot(delta, jacobian_matrix)\n",
    "\n"
   ]
  },
  {
   "cell_type": "code",
   "execution_count": 54,
   "metadata": {},
   "outputs": [],
   "source": [
    "def backward(delta,y):\n",
    "    # repeat y n times to form a 2d array\n",
    "    y1 = np.tile(y, (y.shape[0], 1)).T\n",
    "    # 5x5 identity matrix\n",
    "    i = np.identity(y.shape[0])\n",
    "    # repeat y n times to form a 2d array\n",
    "    y2 = np.tile(y, (y.shape[0], 1))\n",
    "\n",
    "    jacobian_matrix = y1 * (i - y2)\n",
    "    return np.dot(delta, jacobian_matrix)\n",
    "\n",
    "def batch_backward(delta,y):\n",
    "    grads = np.zeros((y.shape[0], y.shape[1]))\n",
    "    for i in range(len(delta)):\n",
    "        d_inputs = backward(delta[i],y[i])\n",
    "        grads[i] = d_inputs\n",
    "\n",
    "    return grads"
   ]
  },
  {
   "cell_type": "code",
   "execution_count": null,
   "metadata": {},
   "outputs": [],
   "source": [
    "class CrossEntropy(Node):\n",
    "    '''\n",
    "    CrossEntropy loss function\n",
    "    '''\n",
    "    def __init__(self):\n",
    "        super(CrossEntropy, self).__init__('cross_entropy', [])\n",
    "\n",
    "    def forward(self, x, l):\n",
    "        '''\n",
    "        Implement this part\n",
    "        '''\n",
    "        if x.ndim == 1:\n",
    "            l = l.reshape(1,l.size)\n",
    "            x = x.reshape(1,x.size)\n",
    "            \n",
    "        # 监督数据是one-hot-vector的情况下，转换为正确解标签的索引\n",
    "        if l.size == x.size:\n",
    "            l = l.argmax(axis=1)\n",
    "                \n",
    "        batch_size = x.shape[0]\n",
    "        self.x = x\n",
    "        self.l = l\n",
    "        return -np.sum(np.log(x[np.arange(batch_size), l] + 1e-7)) / batch_size\n",
    "    \n",
    "    def backward(self, delta=1):\n",
    "        '''\n",
    "        Implement this part\n",
    "        '''\n",
    "        # implement cross entropy backward here\n",
    "        batch_size = self.x.shape[0]\n",
    "        grad = np.zeros_like(self.x)\n",
    "        grad[np.arange(batch_size), self.l] = -1 / (self.x[np.arange(batch_size), self.l] + 1e-7)\n",
    "        return delta * grad / batch_size"
   ]
  },
  {
   "cell_type": "code",
   "execution_count": 56,
   "metadata": {},
   "outputs": [
    {
     "data": {
      "text/plain": [
       "array([[   0.,  -55., -110., -165., -220.]])"
      ]
     },
     "execution_count": 56,
     "metadata": {},
     "output_type": "execute_result"
    }
   ],
   "source": [
    "backward(delta=np.array([[1,2,3,4,5]]),y=np.array([[1,2,3,4,5]]))\n",
    "backward1(delta=np.array([[1,2,3,4,5]]),y=np.array([[1,2,3,4,5]]))"
   ]
  },
  {
   "cell_type": "code",
   "execution_count": 46,
   "metadata": {},
   "outputs": [
    {
     "data": {
      "text/plain": [
       "array([[ -54., -106., -156., -204., -250.],\n",
       "       [ -14.,  -13.,  -12.,  -11.,  -10.]])"
      ]
     },
     "execution_count": 46,
     "metadata": {},
     "output_type": "execute_result"
    }
   ],
   "source": [
    "batch_backward(delta=np.array([[1,2,3,4,5], [1,2,3,4,5]]),\n",
    "               y=np.array([[1,2,3,4,5], [1,1,1,1,1]]))"
   ]
  },
  {
   "cell_type": "code",
   "execution_count": null,
   "metadata": {},
   "outputs": [],
   "source": []
  },
  {
   "cell_type": "code",
   "execution_count": 61,
   "metadata": {},
   "outputs": [
    {
     "name": "stdout",
     "output_type": "stream",
     "text": [
      "[[1 1 1]\n",
      " [2 2 2]\n",
      " [3 3 3]]\n",
      "\n",
      "[[1 2 3]\n",
      " [1 2 3]\n",
      " [1 2 3]]\n"
     ]
    }
   ],
   "source": [
    "# use np.tile() to repeat a 1d array n times to form a 2d array\n",
    "# https://stackoverflow.com/questions/34226400/what-is-the-np-outer-function-in-numpy\n",
    "# example\n",
    "a = np.array([1, 2, 3])\n",
    "print(np.tile(a, (3, 1)).T,end='\\n\\n')\n",
    "print(np.tile(a, (3, 1)))\n",
    "\n"
   ]
  },
  {
   "cell_type": "code",
   "execution_count": null,
   "metadata": {},
   "outputs": [],
   "source": []
  }
 ],
 "metadata": {
  "kernelspec": {
   "display_name": "first",
   "language": "python",
   "name": "python3"
  },
  "language_info": {
   "codemirror_mode": {
    "name": "ipython",
    "version": 3
   },
   "file_extension": ".py",
   "mimetype": "text/x-python",
   "name": "python",
   "nbconvert_exporter": "python",
   "pygments_lexer": "ipython3",
   "version": "3.10.8"
  },
  "orig_nbformat": 4
 },
 "nbformat": 4,
 "nbformat_minor": 2
}
